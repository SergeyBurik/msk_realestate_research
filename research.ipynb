{
 "cells": [
  {
   "cell_type": "markdown",
   "id": "1172eb4a",
   "metadata": {},
   "source": [
    "# Estimating the cost of apartments in Moscow using Python\n",
    "The real estate market in Moscow is very extensive. At the moment, there are tens of thousands of apartments for sale: from affordable apartments near the Moscow Ring Road to penthouses in the city center. Such diversity of supply can make this market attractive for Data Scientists to explore."
   ]
  },
  {
   "cell_type": "markdown",
   "id": "ff5f72bc",
   "metadata": {},
   "source": [
    "**Tasks**:  \n",
    "1. collect a dataset of apartments in Moscow\n",
    "1. explore publicly available factors affecting the final price of an apartment\n",
    "1. implement a machine learning model on the collected data (train and test the accuracy of estimates)"
   ]
  },
  {
   "cell_type": "markdown",
   "id": "2f84e60a",
   "metadata": {},
   "source": [
    "Used languages and frameworks: Python, Selenium, BeatifulSoup, geopy, pandas, Seaborn and sklearn. <br>\n",
    "**1. Collect a dataset of apartments in Moscow** <br>\n",
    "Implementation of Parser class\n",
    "\n",
    "Import libraries"
   ]
  },
  {
   "cell_type": "code",
   "execution_count": 1,
   "id": "cdf93632",
   "metadata": {},
   "outputs": [],
   "source": [
    "from bs4 import BeautifulSoup\n",
    "from settings import *\n",
    "import pandas as pd"
   ]
  },
  {
   "cell_type": "markdown",
   "id": "6c1ea171",
   "metadata": {},
   "source": [
    "Parser class structure"
   ]
  },
  {
   "cell_type": "code",
   "execution_count": 2,
   "id": "26f2dd90",
   "metadata": {},
   "outputs": [],
   "source": [
    "class Parser:\n",
    "    def __init__(self, url, pages, output_file_name):\n",
    "        self.url = url\n",
    "        self.pages = pages\n",
    "        self.driver = self.init_driver()\n",
    "        self.output_file_name = output_file_name\n",
    "\n",
    "        self.create_dataframe()\n",
    "        self.driver.quit()\n",
    "  \n",
    "    def init_driver(self):\n",
    "        ...\n",
    "  \n",
    "    def create_dataframe(self):\n",
    "        ...\n",
    "    \n",
    "    def parse(self):\n",
    "        ...\n",
    "  \n",
    "    def clean(self, data):\n",
    "        ...\n",
    "    \n",
    "  \n",
    "    "
   ]
  },
  {
   "cell_type": "markdown",
   "id": "2d528a2d",
   "metadata": {},
   "source": [
    "Used version of Python: 3.10.4"
   ]
  },
  {
   "cell_type": "code",
   "execution_count": 3,
   "id": "b4822b64",
   "metadata": {},
   "outputs": [
    {
     "name": "stdout",
     "output_type": "stream",
     "text": [
      "3.10.4 (tags/v3.10.4:9d38120, Mar 23 2022, 23:13:41) [MSC v.1929 64 bit (AMD64)]\n"
     ]
    }
   ],
   "source": [
    "import sys\n",
    "print(sys.version)"
   ]
  },
  {
   "cell_type": "markdown",
   "id": "e5e4c039",
   "metadata": {},
   "source": [
    "Import libraries: pandas, sklearn, xgboost"
   ]
  },
  {
   "cell_type": "code",
   "execution_count": 4,
   "id": "0e2377e4",
   "metadata": {},
   "outputs": [],
   "source": [
    "import pandas as pd\n",
    "from sklearn.model_selection import train_test_split\n",
    "from xgboost import XGBRegressor\n",
    "from sklearn.metrics import mean_absolute_error\n",
    "from sklearn.model_selection import cross_val_score"
   ]
  },
  {
   "cell_type": "markdown",
   "id": "4539e905",
   "metadata": {},
   "source": [
    "Load DataFrame and get its shape, as well as statistics on fields of a numeric type"
   ]
  },
  {
   "cell_type": "code",
   "execution_count": 5,
   "id": "ffb45d0f",
   "metadata": {},
   "outputs": [
    {
     "data": {
      "text/html": [
       "<div>\n",
       "<style scoped>\n",
       "    .dataframe tbody tr th:only-of-type {\n",
       "        vertical-align: middle;\n",
       "    }\n",
       "\n",
       "    .dataframe tbody tr th {\n",
       "        vertical-align: top;\n",
       "    }\n",
       "\n",
       "    .dataframe thead th {\n",
       "        text-align: right;\n",
       "    }\n",
       "</style>\n",
       "<table border=\"1\" class=\"dataframe\">\n",
       "  <thead>\n",
       "    <tr style=\"text-align: right;\">\n",
       "      <th></th>\n",
       "      <th>meters</th>\n",
       "      <th>address</th>\n",
       "      <th>latitude</th>\n",
       "      <th>longitude</th>\n",
       "      <th>title</th>\n",
       "      <th>price_per_meter</th>\n",
       "      <th>price</th>\n",
       "      <th>floor</th>\n",
       "      <th>floors</th>\n",
       "      <th>metro</th>\n",
       "      <th>metro_distance</th>\n",
       "      <th>metro_distance_type</th>\n",
       "      <th>building</th>\n",
       "      <th>rooms</th>\n",
       "      <th>is_flat</th>\n",
       "      <th>description</th>\n",
       "    </tr>\n",
       "  </thead>\n",
       "  <tbody>\n",
       "    <tr>\n",
       "      <th>0</th>\n",
       "      <td>12.700000</td>\n",
       "      <td>Вольная улица, 25</td>\n",
       "      <td>55.777070</td>\n",
       "      <td>37.732945</td>\n",
       "      <td>12,7 м², апартаменты-студия</td>\n",
       "      <td>312180</td>\n",
       "      <td>3964686</td>\n",
       "      <td>1</td>\n",
       "      <td>2</td>\n",
       "      <td>Семёновская</td>\n",
       "      <td>17</td>\n",
       "      <td>0</td>\n",
       "      <td>1 этаж из 2</td>\n",
       "      <td>0</td>\n",
       "      <td>False</td>\n",
       "      <td>Субсидированная ипотека от ведущих банков Отде...</td>\n",
       "    </tr>\n",
       "    <tr>\n",
       "      <th>1</th>\n",
       "      <td>951.999992</td>\n",
       "      <td>Гранатный переулок, 8с4</td>\n",
       "      <td>55.760030</td>\n",
       "      <td>37.590863</td>\n",
       "      <td>952 м², 13-комнатные апартаменты</td>\n",
       "      <td>1976750</td>\n",
       "      <td>1881865984</td>\n",
       "      <td>8</td>\n",
       "      <td>8</td>\n",
       "      <td>Баррикадная</td>\n",
       "      <td>11</td>\n",
       "      <td>0</td>\n",
       "      <td>ЖК «Гранатный Палас», 8 этаж из 8</td>\n",
       "      <td>3</td>\n",
       "      <td>False</td>\n",
       "      <td>Лот: 11121. В продаже видовой пентхаус с терра...</td>\n",
       "    </tr>\n",
       "    <tr>\n",
       "      <th>2</th>\n",
       "      <td>21.400001</td>\n",
       "      <td>поселение Сосенское, жилой комплекс Прокшино</td>\n",
       "      <td>55.571900</td>\n",
       "      <td>37.445617</td>\n",
       "      <td>21,4 м², квартира-студия</td>\n",
       "      <td>329837</td>\n",
       "      <td>7058512</td>\n",
       "      <td>5</td>\n",
       "      <td>9</td>\n",
       "      <td>Прокшино</td>\n",
       "      <td>18</td>\n",
       "      <td>0</td>\n",
       "      <td>новостройка, ЖК «Прокшино» 3 кв. 2024 г., 5 эт...</td>\n",
       "      <td>0</td>\n",
       "      <td>True</td>\n",
       "      <td>Apт.1684014. Гибкая ипотека от 0,1%! Вы можете...</td>\n",
       "    </tr>\n",
       "    <tr>\n",
       "      <th>3</th>\n",
       "      <td>38.790000</td>\n",
       "      <td>жилой комплекс Симфония 34</td>\n",
       "      <td>55.568301</td>\n",
       "      <td>37.592959</td>\n",
       "      <td>38,8 м², 1-комнатная квартира</td>\n",
       "      <td>513200</td>\n",
       "      <td>19907028</td>\n",
       "      <td>18</td>\n",
       "      <td>36</td>\n",
       "      <td>Дмитровская</td>\n",
       "      <td>9</td>\n",
       "      <td>0</td>\n",
       "      <td>новостройка, ЖК Symphony 34 2025 г., 18 этаж и...</td>\n",
       "      <td>1</td>\n",
       "      <td>True</td>\n",
       "      <td>Продаётся 1-комнатная квартира от застройщика ...</td>\n",
       "    </tr>\n",
       "    <tr>\n",
       "      <th>4</th>\n",
       "      <td>120.199895</td>\n",
       "      <td>шоссе Энтузиастов, 3Ак1</td>\n",
       "      <td>55.776238</td>\n",
       "      <td>37.839417</td>\n",
       "      <td>120,2 м², 4-комнатная квартира</td>\n",
       "      <td>380200</td>\n",
       "      <td>45700000</td>\n",
       "      <td>14</td>\n",
       "      <td>21</td>\n",
       "      <td>Москва Товарная</td>\n",
       "      <td>13</td>\n",
       "      <td>0</td>\n",
       "      <td>новостройка, Квартал «Символ» 2023 г., 14 этаж...</td>\n",
       "      <td>4</td>\n",
       "      <td>True</td>\n",
       "      <td>Продаю просторную квартиру с европланировкой п...</td>\n",
       "    </tr>\n",
       "  </tbody>\n",
       "</table>\n",
       "</div>"
      ],
      "text/plain": [
       "       meters                                       address   latitude  \\\n",
       "0   12.700000                             Вольная улица, 25  55.777070   \n",
       "1  951.999992                       Гранатный переулок, 8с4  55.760030   \n",
       "2   21.400001  поселение Сосенское, жилой комплекс Прокшино  55.571900   \n",
       "3   38.790000                    жилой комплекс Симфония 34  55.568301   \n",
       "4  120.199895                       шоссе Энтузиастов, 3Ак1  55.776238   \n",
       "\n",
       "   longitude                             title  price_per_meter       price  \\\n",
       "0  37.732945       12,7 м², апартаменты-студия           312180     3964686   \n",
       "1  37.590863  952 м², 13-комнатные апартаменты          1976750  1881865984   \n",
       "2  37.445617          21,4 м², квартира-студия           329837     7058512   \n",
       "3  37.592959     38,8 м², 1-комнатная квартира           513200    19907028   \n",
       "4  37.839417    120,2 м², 4-комнатная квартира           380200    45700000   \n",
       "\n",
       "   floor  floors            metro  metro_distance  metro_distance_type  \\\n",
       "0      1       2      Семёновская              17                    0   \n",
       "1      8       8      Баррикадная              11                    0   \n",
       "2      5       9         Прокшино              18                    0   \n",
       "3     18      36      Дмитровская               9                    0   \n",
       "4     14      21  Москва Товарная              13                    0   \n",
       "\n",
       "                                            building  rooms  is_flat  \\\n",
       "0                                        1 этаж из 2      0    False   \n",
       "1                  ЖК «Гранатный Палас», 8 этаж из 8      3    False   \n",
       "2  новостройка, ЖК «Прокшино» 3 кв. 2024 г., 5 эт...      0     True   \n",
       "3  новостройка, ЖК Symphony 34 2025 г., 18 этаж и...      1     True   \n",
       "4  новостройка, Квартал «Символ» 2023 г., 14 этаж...      4     True   \n",
       "\n",
       "                                         description  \n",
       "0  Субсидированная ипотека от ведущих банков Отде...  \n",
       "1  Лот: 11121. В продаже видовой пентхаус с терра...  \n",
       "2  Apт.1684014. Гибкая ипотека от 0,1%! Вы можете...  \n",
       "3  Продаётся 1-комнатная квартира от застройщика ...  \n",
       "4  Продаю просторную квартиру с европланировкой п...  "
      ]
     },
     "execution_count": 5,
     "metadata": {},
     "output_type": "execute_result"
    }
   ],
   "source": [
    "data = pd.read_csv(\"data_extended_2.csv\")\n",
    "data.head()"
   ]
  },
  {
   "cell_type": "markdown",
   "id": "8322d875",
   "metadata": {},
   "source": [
    "The data set consists of more than 6.5 thousand records and includes data on the area of ​​the apartment, location, price per square meter, total price, floor, number of floors in the house, metro station, distance to the station (in minutes, on foot or by transport), number rooms, as well as the type of housing (flat / apartment)"
   ]
  },
  {
   "cell_type": "code",
   "execution_count": 6,
   "id": "c483213e",
   "metadata": {},
   "outputs": [
    {
     "data": {
      "text/plain": [
       "(6748, 16)"
      ]
     },
     "execution_count": 6,
     "metadata": {},
     "output_type": "execute_result"
    }
   ],
   "source": [
    "data.shape"
   ]
  },
  {
   "cell_type": "code",
   "execution_count": 7,
   "id": "34091c81",
   "metadata": {},
   "outputs": [
    {
     "data": {
      "text/html": [
       "<div>\n",
       "<style scoped>\n",
       "    .dataframe tbody tr th:only-of-type {\n",
       "        vertical-align: middle;\n",
       "    }\n",
       "\n",
       "    .dataframe tbody tr th {\n",
       "        vertical-align: top;\n",
       "    }\n",
       "\n",
       "    .dataframe thead th {\n",
       "        text-align: right;\n",
       "    }\n",
       "</style>\n",
       "<table border=\"1\" class=\"dataframe\">\n",
       "  <thead>\n",
       "    <tr style=\"text-align: right;\">\n",
       "      <th></th>\n",
       "      <th>meters</th>\n",
       "      <th>latitude</th>\n",
       "      <th>longitude</th>\n",
       "      <th>price_per_meter</th>\n",
       "      <th>price</th>\n",
       "      <th>floor</th>\n",
       "      <th>floors</th>\n",
       "      <th>metro_distance</th>\n",
       "      <th>metro_distance_type</th>\n",
       "      <th>rooms</th>\n",
       "    </tr>\n",
       "  </thead>\n",
       "  <tbody>\n",
       "    <tr>\n",
       "      <th>count</th>\n",
       "      <td>6748.000000</td>\n",
       "      <td>5969.000000</td>\n",
       "      <td>5969.000000</td>\n",
       "      <td>6.748000e+03</td>\n",
       "      <td>6.748000e+03</td>\n",
       "      <td>6748.000000</td>\n",
       "      <td>6748.000000</td>\n",
       "      <td>6748.000000</td>\n",
       "      <td>6748.000000</td>\n",
       "      <td>6748.000000</td>\n",
       "    </tr>\n",
       "    <tr>\n",
       "      <th>mean</th>\n",
       "      <td>64.344889</td>\n",
       "      <td>55.742980</td>\n",
       "      <td>37.569619</td>\n",
       "      <td>4.269879e+05</td>\n",
       "      <td>3.912311e+07</td>\n",
       "      <td>7.902786</td>\n",
       "      <td>16.185536</td>\n",
       "      <td>11.626260</td>\n",
       "      <td>0.109662</td>\n",
       "      <td>1.963248</td>\n",
       "    </tr>\n",
       "    <tr>\n",
       "      <th>std</th>\n",
       "      <td>52.061817</td>\n",
       "      <td>0.112464</td>\n",
       "      <td>0.161619</td>\n",
       "      <td>4.253814e+05</td>\n",
       "      <td>9.383000e+07</td>\n",
       "      <td>7.269487</td>\n",
       "      <td>11.080072</td>\n",
       "      <td>4.738507</td>\n",
       "      <td>0.312491</td>\n",
       "      <td>1.241236</td>\n",
       "    </tr>\n",
       "    <tr>\n",
       "      <th>min</th>\n",
       "      <td>8.700008</td>\n",
       "      <td>55.096123</td>\n",
       "      <td>36.920921</td>\n",
       "      <td>7.873200e+04</td>\n",
       "      <td>2.990000e+06</td>\n",
       "      <td>1.000000</td>\n",
       "      <td>1.000000</td>\n",
       "      <td>1.000000</td>\n",
       "      <td>0.000000</td>\n",
       "      <td>0.000000</td>\n",
       "    </tr>\n",
       "    <tr>\n",
       "      <th>25%</th>\n",
       "      <td>36.470089</td>\n",
       "      <td>55.674560</td>\n",
       "      <td>37.525231</td>\n",
       "      <td>2.613640e+05</td>\n",
       "      <td>1.050000e+07</td>\n",
       "      <td>3.000000</td>\n",
       "      <td>8.000000</td>\n",
       "      <td>8.000000</td>\n",
       "      <td>0.000000</td>\n",
       "      <td>1.000000</td>\n",
       "    </tr>\n",
       "    <tr>\n",
       "      <th>50%</th>\n",
       "      <td>51.400030</td>\n",
       "      <td>55.759618</td>\n",
       "      <td>37.593211</td>\n",
       "      <td>3.269000e+05</td>\n",
       "      <td>1.471925e+07</td>\n",
       "      <td>5.000000</td>\n",
       "      <td>13.000000</td>\n",
       "      <td>12.000000</td>\n",
       "      <td>0.000000</td>\n",
       "      <td>2.000000</td>\n",
       "    </tr>\n",
       "    <tr>\n",
       "      <th>75%</th>\n",
       "      <td>68.699944</td>\n",
       "      <td>55.809022</td>\n",
       "      <td>37.637773</td>\n",
       "      <td>4.480550e+05</td>\n",
       "      <td>2.700000e+07</td>\n",
       "      <td>11.000000</td>\n",
       "      <td>25.000000</td>\n",
       "      <td>15.000000</td>\n",
       "      <td>0.000000</td>\n",
       "      <td>3.000000</td>\n",
       "    </tr>\n",
       "    <tr>\n",
       "      <th>max</th>\n",
       "      <td>951.999992</td>\n",
       "      <td>56.155797</td>\n",
       "      <td>38.930808</td>\n",
       "      <td>5.675511e+06</td>\n",
       "      <td>2.000050e+09</td>\n",
       "      <td>54.000000</td>\n",
       "      <td>77.000000</td>\n",
       "      <td>53.000000</td>\n",
       "      <td>1.000000</td>\n",
       "      <td>9.000000</td>\n",
       "    </tr>\n",
       "  </tbody>\n",
       "</table>\n",
       "</div>"
      ],
      "text/plain": [
       "            meters     latitude    longitude  price_per_meter         price  \\\n",
       "count  6748.000000  5969.000000  5969.000000     6.748000e+03  6.748000e+03   \n",
       "mean     64.344889    55.742980    37.569619     4.269879e+05  3.912311e+07   \n",
       "std      52.061817     0.112464     0.161619     4.253814e+05  9.383000e+07   \n",
       "min       8.700008    55.096123    36.920921     7.873200e+04  2.990000e+06   \n",
       "25%      36.470089    55.674560    37.525231     2.613640e+05  1.050000e+07   \n",
       "50%      51.400030    55.759618    37.593211     3.269000e+05  1.471925e+07   \n",
       "75%      68.699944    55.809022    37.637773     4.480550e+05  2.700000e+07   \n",
       "max     951.999992    56.155797    38.930808     5.675511e+06  2.000050e+09   \n",
       "\n",
       "             floor       floors  metro_distance  metro_distance_type  \\\n",
       "count  6748.000000  6748.000000     6748.000000          6748.000000   \n",
       "mean      7.902786    16.185536       11.626260             0.109662   \n",
       "std       7.269487    11.080072        4.738507             0.312491   \n",
       "min       1.000000     1.000000        1.000000             0.000000   \n",
       "25%       3.000000     8.000000        8.000000             0.000000   \n",
       "50%       5.000000    13.000000       12.000000             0.000000   \n",
       "75%      11.000000    25.000000       15.000000             0.000000   \n",
       "max      54.000000    77.000000       53.000000             1.000000   \n",
       "\n",
       "             rooms  \n",
       "count  6748.000000  \n",
       "mean      1.963248  \n",
       "std       1.241236  \n",
       "min       0.000000  \n",
       "25%       1.000000  \n",
       "50%       2.000000  \n",
       "75%       3.000000  \n",
       "max       9.000000  "
      ]
     },
     "execution_count": 7,
     "metadata": {},
     "output_type": "execute_result"
    }
   ],
   "source": [
    "data.describe()"
   ]
  },
  {
   "cell_type": "code",
   "execution_count": 8,
   "id": "0d48666b",
   "metadata": {},
   "outputs": [],
   "source": [
    "pd.plotting.register_matplotlib_converters()\n",
    "import matplotlib.pyplot as plt\n",
    "%matplotlib inline\n",
    "import seaborn as sns"
   ]
  },
  {
   "cell_type": "markdown",
   "id": "3b1b5b5e",
   "metadata": {},
   "source": [
    "A plot of the dependence of the price on the area of the apartment"
   ]
  },
  {
   "cell_type": "code",
   "execution_count": 9,
   "id": "1c43dd07",
   "metadata": {},
   "outputs": [
    {
     "data": {
      "text/plain": [
       "<seaborn.axisgrid.FacetGrid at 0x2e1b539d090>"
      ]
     },
     "execution_count": 9,
     "metadata": {},
     "output_type": "execute_result"
    },
    {
     "data": {
      "image/png": "[encoded data removed]",
      "text/plain": [
       "<Figure size 421.25x360 with 1 Axes>"
      ]
     },
     "metadata": {
      "needs_background": "light"
     },
     "output_type": "display_data"
    }
   ],
   "source": [
    "sns.lmplot(x=\"meters\", y=\"price\", hue=\"is_flat\", data=data)"
   ]
  },
  {
   "cell_type": "markdown",
   "id": "435a9651",
   "metadata": {},
   "source": [
    "As can be seen from the graph, there are rare cases in the data set with an apartment area of ​​more than 300 square meters, as well as too high a price. Such exceptions negatively affect the accuracy of the future model estimation. Therefore, we remove some sentences from the set."
   ]
  },
  {
   "cell_type": "code",
   "execution_count": 10,
   "id": "603da293",
   "metadata": {},
   "outputs": [],
   "source": [
    "data = data.drop(data[data.meters > 300].index)"
   ]
  },
  {
   "cell_type": "code",
   "execution_count": 11,
   "id": "8f1530ac",
   "metadata": {},
   "outputs": [
    {
     "data": {
      "text/plain": [
       "<seaborn.axisgrid.FacetGrid at 0x2e1ce71a380>"
      ]
     },
     "execution_count": 11,
     "metadata": {},
     "output_type": "execute_result"
    },
    {
     "data": {
      "image/png": "[encoded data removed]",
      "text/plain": [
       "<Figure size 421.25x360 with 1 Axes>"
      ]
     },
     "metadata": {
      "needs_background": "light"
     },
     "output_type": "display_data"
    }
   ],
   "source": [
    "sns.lmplot(x=\"meters\", y=\"price\", hue=\"is_flat\", data=data)"
   ]
  },
  {
   "cell_type": "code",
   "execution_count": 12,
   "id": "dc737cc7",
   "metadata": {},
   "outputs": [],
   "source": [
    "data = data.drop(data[data.price > 350000000].index)"
   ]
  },
  {
   "cell_type": "code",
   "execution_count": 13,
   "id": "ebbafd2e",
   "metadata": {},
   "outputs": [
    {
     "data": {
      "text/plain": [
       "<seaborn.axisgrid.FacetGrid at 0x2e1d0a2b130>"
      ]
     },
     "execution_count": 13,
     "metadata": {},
     "output_type": "execute_result"
    },
    {
     "data": {
      "image/png": "[encoded data removed]",
      "text/plain": [
       "<Figure size 421.25x360 with 1 Axes>"
      ]
     },
     "metadata": {
      "needs_background": "light"
     },
     "output_type": "display_data"
    }
   ],
   "source": [
    "sns.lmplot(x=\"meters\", y=\"price\", hue=\"is_flat\", data=data)"
   ]
  },
  {
   "cell_type": "markdown",
   "id": "feb13a9a",
   "metadata": {},
   "source": [
    "The dependence in the graph has become more straight with a smaller spread of values"
   ]
  },
  {
   "cell_type": "markdown",
   "id": "d727d609",
   "metadata": {},
   "source": [
    "During the creation of the dataset, some addresses could not be located. Therefore, we will replace the missing values with the location of the nearest metro station"
   ]
  },
  {
   "cell_type": "code",
   "execution_count": 14,
   "id": "08b954a9",
   "metadata": {},
   "outputs": [
    {
     "data": {
      "text/plain": [
       "meters                   0\n",
       "address                  0\n",
       "latitude               778\n",
       "longitude              778\n",
       "title                    0\n",
       "price_per_meter          0\n",
       "price                    0\n",
       "floor                    0\n",
       "floors                   0\n",
       "metro                    0\n",
       "metro_distance           0\n",
       "metro_distance_type      0\n",
       "building                 0\n",
       "rooms                    0\n",
       "is_flat                  0\n",
       "description            264\n",
       "dtype: int64"
      ]
     },
     "execution_count": 14,
     "metadata": {},
     "output_type": "execute_result"
    }
   ],
   "source": [
    "coord_data = data.copy()\n",
    "coord_data.isnull().sum()"
   ]
  },
  {
   "cell_type": "markdown",
   "id": "c20cbac9",
   "metadata": {},
   "source": [
    "Get the names of metro stations for records in which there are no longitude and latitude values. Then go through the list of stations and get their coordinates, and then fill in the missing values."
   ]
  },
  {
   "cell_type": "code",
   "execution_count": 15,
   "id": "1758631d",
   "metadata": {},
   "outputs": [
    {
     "data": {
      "text/plain": [
       "meters                   0\n",
       "address                  0\n",
       "latitude                 0\n",
       "longitude                0\n",
       "title                    0\n",
       "price_per_meter          0\n",
       "price                    0\n",
       "floor                    0\n",
       "floors                   0\n",
       "metro                    0\n",
       "metro_distance           0\n",
       "metro_distance_type      0\n",
       "building                 0\n",
       "rooms                    0\n",
       "is_flat                  0\n",
       "description            264\n",
       "dtype: int64"
      ]
     },
     "execution_count": 15,
     "metadata": {},
     "output_type": "execute_result"
    }
   ],
   "source": [
    "# from geopy.geocoders import Nominatim\n",
    "# geocoder = Nominatim(user_agent=\"mskapp\")\n",
    "\n",
    "# missing_coords_by_metro = coord_data.loc[coord_data['longitude'].isna()].metro\n",
    "# print(missing_coords_by_metro)\n",
    "# metro_coords = {}\n",
    "# seen_stations = []\n",
    "# for m in missing_coords_by_metro:\n",
    "#     if m not in seen_stations:\n",
    "#         try:\n",
    "#             print(f\"Москва, метро {m}\")\n",
    "#             coords = geocoder.geocode(f\"Москва, станция {m}\")\n",
    "#             seen_stations.append(m)\n",
    "#             metro_coords[m] = (coords.longitude, coords.latitude)\n",
    "#             #print(metro_coords)\n",
    "#         except AttributeError as e:\n",
    "#             print(\"unknown metro station\")\n",
    "# print(metro_coords)\n",
    "\n",
    "metro_coords = {'Белорусская': (37.5850152, 55.7775132), 'Спартак': (37.43590462739936, 55.818320783180155), 'Мичуринский проспект': (37.485211152637774, 55.688368749999995), 'Трикотажная': (37.4018101, 55.8332051), 'Бутово': (37.5698434, 55.5397267), 'Стрешнево': (37.4874182, 55.8161654), 'Немчиновка': (37.3723271, 55.7151732), 'Хорошёво': (37.5055971, 55.776907), 'Подольск': (37.5636856, 55.4318985), 'Пенягино': (37.346898200626974, 55.83823355), 'Лобня': (37.4839507, 56.0129378), 'Одинцово': (37.2824988, 55.6707449), 'Красный строитель': (37.61612863753132, 55.5909053), \"ЗИЛ\": (37.64777753775774, 55.69809523715284), \"Коптево\": (37.52022669432593, 55.84002474460116), \"Площадь Ильича\":(37.67997351390443, 55.74731363786587), 'Угрешская': (37.6976059789795, 55.71915061027129), 'Бульвар Рокоссовского': (37.7337308, 55.8149498), 'Пятницкое шоссе': (37.3526924, 55.8572638), 'Коммунарка': (37.4673453, 55.5601742), 'Прокшино': (37.4324203, 55.5873086), 'Саларьево': (37.4252321, 55.6217169), 'Фили': (37.5144437, 55.7468803), 'Филатов Луг': (37.4091292, 55.6012882), 'Терехово': (37.4592333, 55.7481991), 'Народное ополчение': (37.485973, 55.7756755), 'Беговая': (37.5435194, 55.7737517), 'Новые Черёмушки': (37.5549064, 55.6686227), 'Алексеевская': (37.6369168, 55.8090207), 'Октябрьское поле': (37.4945293, 55.7939055), 'Ольховая': (37.4598158, 55.5703749), 'Бульвар адмирала Ушакова': (37.5439795, 55.5466175), 'Озёрная': (37.4489682, 55.6704247), 'Павелецкая': (37.635273, 55.7316009), 'Технопарк': (37.6639666, 55.6949871), 'Некрасовка': (37.9281377, 55.7026238), 'Ломоносовский проспект': (37.5149469, 55.7058871), 'Парк Победы': (37.519389, 55.7362647), 'Марьина роща': (37.6178517, 55.7933905), 'Лесопарковая': (37.5768468, 55.5824093), 'Минская': (37.4977723, 55.7239424), 'Аминьевская': (37.4643653, 55.697109), 'Рассказовка': (37.3366043, 55.6341635), 'Планерная': (37.4350685, 55.8642395), 'Бибирево': (37.6050562, 55.8837345), 'Марьино': (37.743889, 55.6494019), 'Кунцевская': (37.4451323, 55.7297635), 'Беломорская': (37.4749, 55.8655), 'Парк Культуры': (37.5934979, 55.7348204), 'Молодёжная': (37.4151799, 55.7418308), 'Новопеределкино': (37.357406, 55.6407058), 'Нагатинская': (37.6237119, 55.6841244), 'Бунинская аллея': (37.5139914, 55.5376042), 'Водный стадион': (37.4872282, 55.8385115), 'Профсоюзная': (37.5655295, 55.6772937), 'Шелепиха': (37.52305, 55.755398)}\n",
    "\n",
    "for metro, coords in metro_coords.items():\n",
    "    coord_data.loc[(coord_data['longitude'].isna()) & (coord_data[\"metro\"] == metro), \"longitude\"] = coords[0]\n",
    "    coord_data.loc[(coord_data['latitude'].isna()) & (coord_data[\"metro\"] == metro), \"latitude\"] = coords[1]\n",
    "        \n",
    "coord_data.isnull().sum()"
   ]
  },
  {
   "cell_type": "markdown",
   "id": "4a3d732c",
   "metadata": {},
   "source": [
    "Let's find the deviation of the location of the apartment from the city center (we consider Red Square as the city center), and then find the distance to the center (according to the Pythagorean theorem)."
   ]
  },
  {
   "cell_type": "code",
   "execution_count": 16,
   "id": "e5fa77a1",
   "metadata": {},
   "outputs": [
    {
     "data": {
      "text/html": [
       "<div>\n",
       "<style scoped>\n",
       "    .dataframe tbody tr th:only-of-type {\n",
       "        vertical-align: middle;\n",
       "    }\n",
       "\n",
       "    .dataframe tbody tr th {\n",
       "        vertical-align: top;\n",
       "    }\n",
       "\n",
       "    .dataframe thead th {\n",
       "        text-align: right;\n",
       "    }\n",
       "</style>\n",
       "<table border=\"1\" class=\"dataframe\">\n",
       "  <thead>\n",
       "    <tr style=\"text-align: right;\">\n",
       "      <th></th>\n",
       "      <th>meters</th>\n",
       "      <th>address</th>\n",
       "      <th>latitude</th>\n",
       "      <th>longitude</th>\n",
       "      <th>title</th>\n",
       "      <th>price_per_meter</th>\n",
       "      <th>price</th>\n",
       "      <th>floor</th>\n",
       "      <th>floors</th>\n",
       "      <th>metro</th>\n",
       "      <th>metro_distance</th>\n",
       "      <th>metro_distance_type</th>\n",
       "      <th>building</th>\n",
       "      <th>rooms</th>\n",
       "      <th>is_flat</th>\n",
       "      <th>description</th>\n",
       "      <th>distance</th>\n",
       "    </tr>\n",
       "  </thead>\n",
       "  <tbody>\n",
       "    <tr>\n",
       "      <th>0</th>\n",
       "      <td>12.700000</td>\n",
       "      <td>Вольная улица, 25</td>\n",
       "      <td>0.023054</td>\n",
       "      <td>0.111272</td>\n",
       "      <td>12,7 м², апартаменты-студия</td>\n",
       "      <td>312180</td>\n",
       "      <td>3964686</td>\n",
       "      <td>1</td>\n",
       "      <td>2</td>\n",
       "      <td>Семёновская</td>\n",
       "      <td>17</td>\n",
       "      <td>0</td>\n",
       "      <td>1 этаж из 2</td>\n",
       "      <td>0</td>\n",
       "      <td>False</td>\n",
       "      <td>Субсидированная ипотека от ведущих банков Отде...</td>\n",
       "      <td>12.647600</td>\n",
       "    </tr>\n",
       "    <tr>\n",
       "      <th>2</th>\n",
       "      <td>21.400001</td>\n",
       "      <td>поселение Сосенское, жилой комплекс Прокшино</td>\n",
       "      <td>-0.182116</td>\n",
       "      <td>-0.176056</td>\n",
       "      <td>21,4 м², квартира-студия</td>\n",
       "      <td>329837</td>\n",
       "      <td>7058512</td>\n",
       "      <td>5</td>\n",
       "      <td>9</td>\n",
       "      <td>Прокшино</td>\n",
       "      <td>18</td>\n",
       "      <td>0</td>\n",
       "      <td>новостройка, ЖК «Прокшино» 3 кв. 2024 г., 5 эт...</td>\n",
       "      <td>0</td>\n",
       "      <td>True</td>\n",
       "      <td>Apт.1684014. Гибкая ипотека от 0,1%! Вы можете...</td>\n",
       "      <td>28.192514</td>\n",
       "    </tr>\n",
       "    <tr>\n",
       "      <th>3</th>\n",
       "      <td>38.790000</td>\n",
       "      <td>жилой комплекс Симфония 34</td>\n",
       "      <td>-0.185715</td>\n",
       "      <td>-0.028713</td>\n",
       "      <td>38,8 м², 1-комнатная квартира</td>\n",
       "      <td>513200</td>\n",
       "      <td>19907028</td>\n",
       "      <td>18</td>\n",
       "      <td>36</td>\n",
       "      <td>Дмитровская</td>\n",
       "      <td>9</td>\n",
       "      <td>0</td>\n",
       "      <td>новостройка, ЖК Symphony 34 2025 г., 18 этаж и...</td>\n",
       "      <td>1</td>\n",
       "      <td>True</td>\n",
       "      <td>Продаётся 1-комнатная квартира от застройщика ...</td>\n",
       "      <td>20.915631</td>\n",
       "    </tr>\n",
       "    <tr>\n",
       "      <th>4</th>\n",
       "      <td>120.199895</td>\n",
       "      <td>шоссе Энтузиастов, 3Ак1</td>\n",
       "      <td>0.022223</td>\n",
       "      <td>0.217745</td>\n",
       "      <td>120,2 м², 4-комнатная квартира</td>\n",
       "      <td>380200</td>\n",
       "      <td>45700000</td>\n",
       "      <td>14</td>\n",
       "      <td>21</td>\n",
       "      <td>Москва Товарная</td>\n",
       "      <td>13</td>\n",
       "      <td>0</td>\n",
       "      <td>новостройка, Квартал «Символ» 2023 г., 14 этаж...</td>\n",
       "      <td>4</td>\n",
       "      <td>True</td>\n",
       "      <td>Продаю просторную квартиру с европланировкой п...</td>\n",
       "      <td>24.360870</td>\n",
       "    </tr>\n",
       "    <tr>\n",
       "      <th>5</th>\n",
       "      <td>19.000000</td>\n",
       "      <td>Балтийская улица, 15</td>\n",
       "      <td>0.056696</td>\n",
       "      <td>-0.107335</td>\n",
       "      <td>19 м², апартаменты-студия</td>\n",
       "      <td>300000</td>\n",
       "      <td>5700000</td>\n",
       "      <td>9</td>\n",
       "      <td>14</td>\n",
       "      <td>Сокол</td>\n",
       "      <td>9</td>\n",
       "      <td>0</td>\n",
       "      <td>9 этаж из 14</td>\n",
       "      <td>0</td>\n",
       "      <td>False</td>\n",
       "      <td>Субсидированная ипотека от ведущих банков. Про...</td>\n",
       "      <td>13.510579</td>\n",
       "    </tr>\n",
       "  </tbody>\n",
       "</table>\n",
       "</div>"
      ],
      "text/plain": [
       "       meters                                       address  latitude  \\\n",
       "0   12.700000                             Вольная улица, 25  0.023054   \n",
       "2   21.400001  поселение Сосенское, жилой комплекс Прокшино -0.182116   \n",
       "3   38.790000                    жилой комплекс Симфония 34 -0.185715   \n",
       "4  120.199895                       шоссе Энтузиастов, 3Ак1  0.022223   \n",
       "5   19.000000                          Балтийская улица, 15  0.056696   \n",
       "\n",
       "   longitude                           title  price_per_meter     price  \\\n",
       "0   0.111272     12,7 м², апартаменты-студия           312180   3964686   \n",
       "2  -0.176056        21,4 м², квартира-студия           329837   7058512   \n",
       "3  -0.028713   38,8 м², 1-комнатная квартира           513200  19907028   \n",
       "4   0.217745  120,2 м², 4-комнатная квартира           380200  45700000   \n",
       "5  -0.107335       19 м², апартаменты-студия           300000   5700000   \n",
       "\n",
       "   floor  floors            metro  metro_distance  metro_distance_type  \\\n",
       "0      1       2      Семёновская              17                    0   \n",
       "2      5       9         Прокшино              18                    0   \n",
       "3     18      36      Дмитровская               9                    0   \n",
       "4     14      21  Москва Товарная              13                    0   \n",
       "5      9      14            Сокол               9                    0   \n",
       "\n",
       "                                            building  rooms  is_flat  \\\n",
       "0                                        1 этаж из 2      0    False   \n",
       "2  новостройка, ЖК «Прокшино» 3 кв. 2024 г., 5 эт...      0     True   \n",
       "3  новостройка, ЖК Symphony 34 2025 г., 18 этаж и...      1     True   \n",
       "4  новостройка, Квартал «Символ» 2023 г., 14 этаж...      4     True   \n",
       "5                                       9 этаж из 14      0    False   \n",
       "\n",
       "                                         description   distance  \n",
       "0  Субсидированная ипотека от ведущих банков Отде...  12.647600  \n",
       "2  Apт.1684014. Гибкая ипотека от 0,1%! Вы можете...  28.192514  \n",
       "3  Продаётся 1-комнатная квартира от застройщика ...  20.915631  \n",
       "4  Продаю просторную квартиру с европланировкой п...  24.360870  \n",
       "5  Субсидированная ипотека от ведущих банков. Про...  13.510579  "
      ]
     },
     "execution_count": 16,
     "metadata": {},
     "output_type": "execute_result"
    }
   ],
   "source": [
    "# coordinates relatively to the city centre\n",
    "coord_data.longitude -= 37.62167272350393\n",
    "coord_data.latitude -= 55.754015656147125\n",
    "coord_data[\"distance\"] = (((coord_data.longitude * 111.3) ** 2) + ((coord_data.latitude * 111.3) ** 2)) ** 0.5\n",
    "coord_data.head()"
   ]
  },
  {
   "cell_type": "markdown",
   "id": "3a9eda0a",
   "metadata": {},
   "source": [
    "Let's add the geographical direction of the apartment location to the dataset. There are only four directions *checк the picture*\n",
    "<img src=\"imgs/2.png\" width=\"500\">"
   ]
  },
  {
   "cell_type": "code",
   "execution_count": 17,
   "id": "5a6f6c35",
   "metadata": {},
   "outputs": [],
   "source": [
    "def direction(long, lat):\n",
    "    if (long > 0) and (lat > 0):\n",
    "        return 1\n",
    "    if (long > 0) and (lat < 0):\n",
    "        return 2\n",
    "    if (long < 0) and (lat > 0):\n",
    "        return 3\n",
    "    if (long < 0) and (lat < 0):\n",
    "        return 4\n",
    "coord_data[\"zone\"] = coord_data.apply(lambda x: direction(x['longitude'], x['latitude']), axis=1)"
   ]
  },
  {
   "cell_type": "code",
   "execution_count": 18,
   "id": "02c74b93",
   "metadata": {},
   "outputs": [
    {
     "data": {
      "text/html": [
       "<div>\n",
       "<style scoped>\n",
       "    .dataframe tbody tr th:only-of-type {\n",
       "        vertical-align: middle;\n",
       "    }\n",
       "\n",
       "    .dataframe tbody tr th {\n",
       "        vertical-align: top;\n",
       "    }\n",
       "\n",
       "    .dataframe thead th {\n",
       "        text-align: right;\n",
       "    }\n",
       "</style>\n",
       "<table border=\"1\" class=\"dataframe\">\n",
       "  <thead>\n",
       "    <tr style=\"text-align: right;\">\n",
       "      <th></th>\n",
       "      <th>meters</th>\n",
       "      <th>latitude</th>\n",
       "      <th>longitude</th>\n",
       "      <th>price_per_meter</th>\n",
       "      <th>price</th>\n",
       "      <th>floor</th>\n",
       "      <th>floors</th>\n",
       "      <th>metro_distance</th>\n",
       "      <th>metro_distance_type</th>\n",
       "      <th>rooms</th>\n",
       "      <th>distance</th>\n",
       "      <th>zone</th>\n",
       "    </tr>\n",
       "  </thead>\n",
       "  <tbody>\n",
       "    <tr>\n",
       "      <th>count</th>\n",
       "      <td>6593.000000</td>\n",
       "      <td>6593.000000</td>\n",
       "      <td>6593.000000</td>\n",
       "      <td>6.593000e+03</td>\n",
       "      <td>6.593000e+03</td>\n",
       "      <td>6593.000000</td>\n",
       "      <td>6593.000000</td>\n",
       "      <td>6593.000000</td>\n",
       "      <td>6593.000000</td>\n",
       "      <td>6593.000000</td>\n",
       "      <td>6593.000000</td>\n",
       "      <td>6593.000000</td>\n",
       "    </tr>\n",
       "    <tr>\n",
       "      <th>mean</th>\n",
       "      <td>60.174365</td>\n",
       "      <td>-0.006774</td>\n",
       "      <td>-0.049401</td>\n",
       "      <td>3.775154e+05</td>\n",
       "      <td>2.750182e+07</td>\n",
       "      <td>7.871075</td>\n",
       "      <td>16.249659</td>\n",
       "      <td>11.737752</td>\n",
       "      <td>0.111330</td>\n",
       "      <td>1.912938</td>\n",
       "      <td>15.774919</td>\n",
       "      <td>2.796147</td>\n",
       "    </tr>\n",
       "    <tr>\n",
       "      <th>std</th>\n",
       "      <td>40.441012</td>\n",
       "      <td>0.107824</td>\n",
       "      <td>0.157129</td>\n",
       "      <td>2.361251e+05</td>\n",
       "      <td>4.105475e+07</td>\n",
       "      <td>7.293979</td>\n",
       "      <td>11.170248</td>\n",
       "      <td>4.720873</td>\n",
       "      <td>0.314564</td>\n",
       "      <td>1.195412</td>\n",
       "      <td>15.224481</td>\n",
       "      <td>1.045682</td>\n",
       "    </tr>\n",
       "    <tr>\n",
       "      <th>min</th>\n",
       "      <td>8.700008</td>\n",
       "      <td>-0.657893</td>\n",
       "      <td>-0.700752</td>\n",
       "      <td>7.873200e+04</td>\n",
       "      <td>2.990000e+06</td>\n",
       "      <td>1.000000</td>\n",
       "      <td>1.000000</td>\n",
       "      <td>1.000000</td>\n",
       "      <td>0.000000</td>\n",
       "      <td>0.000000</td>\n",
       "      <td>0.611654</td>\n",
       "      <td>1.000000</td>\n",
       "    </tr>\n",
       "    <tr>\n",
       "      <th>25%</th>\n",
       "      <td>36.470089</td>\n",
       "      <td>-0.069891</td>\n",
       "      <td>-0.096795</td>\n",
       "      <td>2.613640e+05</td>\n",
       "      <td>1.020000e+07</td>\n",
       "      <td>3.000000</td>\n",
       "      <td>8.000000</td>\n",
       "      <td>8.000000</td>\n",
       "      <td>0.000000</td>\n",
       "      <td>1.000000</td>\n",
       "      <td>7.997878</td>\n",
       "      <td>2.000000</td>\n",
       "    </tr>\n",
       "    <tr>\n",
       "      <th>50%</th>\n",
       "      <td>49.400029</td>\n",
       "      <td>0.006454</td>\n",
       "      <td>-0.028043</td>\n",
       "      <td>3.242970e+05</td>\n",
       "      <td>1.450000e+07</td>\n",
       "      <td>5.000000</td>\n",
       "      <td>12.000000</td>\n",
       "      <td>12.000000</td>\n",
       "      <td>0.000000</td>\n",
       "      <td>2.000000</td>\n",
       "      <td>11.419574</td>\n",
       "      <td>3.000000</td>\n",
       "    </tr>\n",
       "    <tr>\n",
       "      <th>75%</th>\n",
       "      <td>67.499998</td>\n",
       "      <td>0.055005</td>\n",
       "      <td>0.016101</td>\n",
       "      <td>4.270000e+05</td>\n",
       "      <td>2.583143e+07</td>\n",
       "      <td>11.000000</td>\n",
       "      <td>25.000000</td>\n",
       "      <td>15.000000</td>\n",
       "      <td>0.000000</td>\n",
       "      <td>3.000000</td>\n",
       "      <td>18.847630</td>\n",
       "      <td>4.000000</td>\n",
       "    </tr>\n",
       "    <tr>\n",
       "      <th>max</th>\n",
       "      <td>300.000000</td>\n",
       "      <td>0.401781</td>\n",
       "      <td>1.309135</td>\n",
       "      <td>3.077405e+06</td>\n",
       "      <td>3.500000e+08</td>\n",
       "      <td>54.000000</td>\n",
       "      <td>77.000000</td>\n",
       "      <td>53.000000</td>\n",
       "      <td>1.000000</td>\n",
       "      <td>8.000000</td>\n",
       "      <td>146.056596</td>\n",
       "      <td>4.000000</td>\n",
       "    </tr>\n",
       "  </tbody>\n",
       "</table>\n",
       "</div>"
      ],
      "text/plain": [
       "            meters     latitude    longitude  price_per_meter         price  \\\n",
       "count  6593.000000  6593.000000  6593.000000     6.593000e+03  6.593000e+03   \n",
       "mean     60.174365    -0.006774    -0.049401     3.775154e+05  2.750182e+07   \n",
       "std      40.441012     0.107824     0.157129     2.361251e+05  4.105475e+07   \n",
       "min       8.700008    -0.657893    -0.700752     7.873200e+04  2.990000e+06   \n",
       "25%      36.470089    -0.069891    -0.096795     2.613640e+05  1.020000e+07   \n",
       "50%      49.400029     0.006454    -0.028043     3.242970e+05  1.450000e+07   \n",
       "75%      67.499998     0.055005     0.016101     4.270000e+05  2.583143e+07   \n",
       "max     300.000000     0.401781     1.309135     3.077405e+06  3.500000e+08   \n",
       "\n",
       "             floor       floors  metro_distance  metro_distance_type  \\\n",
       "count  6593.000000  6593.000000     6593.000000          6593.000000   \n",
       "mean      7.871075    16.249659       11.737752             0.111330   \n",
       "std       7.293979    11.170248        4.720873             0.314564   \n",
       "min       1.000000     1.000000        1.000000             0.000000   \n",
       "25%       3.000000     8.000000        8.000000             0.000000   \n",
       "50%       5.000000    12.000000       12.000000             0.000000   \n",
       "75%      11.000000    25.000000       15.000000             0.000000   \n",
       "max      54.000000    77.000000       53.000000             1.000000   \n",
       "\n",
       "             rooms     distance         zone  \n",
       "count  6593.000000  6593.000000  6593.000000  \n",
       "mean      1.912938    15.774919     2.796147  \n",
       "std       1.195412    15.224481     1.045682  \n",
       "min       0.000000     0.611654     1.000000  \n",
       "25%       1.000000     7.997878     2.000000  \n",
       "50%       2.000000    11.419574     3.000000  \n",
       "75%       3.000000    18.847630     4.000000  \n",
       "max       8.000000   146.056596     4.000000  "
      ]
     },
     "execution_count": 18,
     "metadata": {},
     "output_type": "execute_result"
    }
   ],
   "source": [
    "coord_data.describe()"
   ]
  },
  {
   "cell_type": "code",
   "execution_count": 19,
   "id": "ae719296",
   "metadata": {
    "scrolled": true
   },
   "outputs": [
    {
     "data": {
      "text/plain": [
       "<AxesSubplot:xlabel='is_flat', ylabel='count'>"
      ]
     },
     "execution_count": 19,
     "metadata": {},
     "output_type": "execute_result"
    },
    {
     "data": {
      "image/png": "[encoded data removed]",
      "text/plain": [
       "<Figure size 432x288 with 1 Axes>"
      ]
     },
     "metadata": {
      "needs_background": "light"
     },
     "output_type": "display_data"
    }
   ],
   "source": [
    "sns.countplot(x=\"is_flat\", hue=\"zone\", data=coord_data)"
   ]
  },
  {
   "cell_type": "markdown",
   "id": "cdcde0b5",
   "metadata": {},
   "source": [
    "This histogram reflects the lack of the collected data set: the amount of information about offers in the west of Moscow is many times greater than in the east, which can affect the accuracy of the estimate"
   ]
  },
  {
   "cell_type": "code",
   "execution_count": 20,
   "id": "df7b0464",
   "metadata": {},
   "outputs": [
    {
     "data": {
      "text/plain": [
       "<seaborn.axisgrid.FacetGrid at 0x2e19e21d9f0>"
      ]
     },
     "execution_count": 20,
     "metadata": {},
     "output_type": "execute_result"
    },
    {
     "data": {
      "image/png": "[encoded data removed]",
      "text/plain": [
       "<Figure size 402.375x360 with 1 Axes>"
      ]
     },
     "metadata": {
      "needs_background": "light"
     },
     "output_type": "display_data"
    }
   ],
   "source": [
    "sns.lmplot(x=\"meters\", y=\"price\", hue=\"zone\", data=coord_data)"
   ]
  },
  {
   "cell_type": "markdown",
   "id": "a4705d58",
   "metadata": {},
   "source": [
    "This graph shows that the average price of apartments in the fourth and third directions (West) is higher than in the 1st and 2nd directions."
   ]
  },
  {
   "cell_type": "code",
   "execution_count": 22,
   "id": "dc2c3e67",
   "metadata": {},
   "outputs": [
    {
     "data": {
      "text/plain": [
       "<seaborn.axisgrid.FacetGrid at 0x2e19e1fc2e0>"
      ]
     },
     "execution_count": 22,
     "metadata": {},
     "output_type": "execute_result"
    },
    {
     "data": {
      "image/png": "[encoded data removed]",
      "text/plain": [
       "<Figure size 402.375x360 with 1 Axes>"
      ]
     },
     "metadata": {
      "needs_background": "light"
     },
     "output_type": "display_data"
    }
   ],
   "source": [
    "sns.lmplot(x=\"distance\", y=\"price_per_meter\", hue=\"zone\", data=coord_data)"
   ]
  },
  {
   "cell_type": "markdown",
   "id": "dfe611f2",
   "metadata": {},
   "source": [
    "It can also be seen that, at a distance from the city center, proposals in the 3rd and 4th directions lose in value the prices per square meter of area more slowly than in the eastern directions."
   ]
  },
  {
   "cell_type": "code",
   "execution_count": 25,
   "id": "a4db7f56",
   "metadata": {},
   "outputs": [],
   "source": [
    "coord_data = coord_data.drop(coord_data[coord_data.distance > 60].index)"
   ]
  },
  {
   "cell_type": "markdown",
   "id": "0c5f1dc9",
   "metadata": {},
   "source": [
    "Delete records with a distance from the center of more than 60 kilometers"
   ]
  },
  {
   "cell_type": "code",
   "execution_count": 26,
   "id": "ea620b14",
   "metadata": {},
   "outputs": [
    {
     "data": {
      "text/plain": [
       "<seaborn.axisgrid.FacetGrid at 0x2e1d1fb7df0>"
      ]
     },
     "execution_count": 26,
     "metadata": {},
     "output_type": "execute_result"
    },
    {
     "data": {
      "image/png": "[encoded data removed]",
      "text/plain": [
       "<Figure size 402.375x360 with 1 Axes>"
      ]
     },
     "metadata": {
      "needs_background": "light"
     },
     "output_type": "display_data"
    }
   ],
   "source": [
    "sns.lmplot(x=\"distance\", y=\"price_per_meter\", hue=\"zone\", data=coord_data)"
   ]
  },
  {
   "cell_type": "code",
   "execution_count": 27,
   "id": "be428248",
   "metadata": {},
   "outputs": [],
   "source": [
    "coord_data[\"is_flat\"] = coord_data[\"is_flat\"].astype(int)\n",
    "coord_data['metro'] = coord_data['metro'].astype('category')\n",
    "coord_data['metro_code'] = coord_data['metro'].cat.codes"
   ]
  },
  {
   "cell_type": "markdown",
   "id": "cbaa4a88",
   "metadata": {},
   "source": [
    "Let's replace the boolean data type with a numeric one: *True/False -> 1/0*. Also, to train the model, we will use only the numeric data type, as a result of which we will encode all the names of metro stations into numeric codes."
   ]
  },
  {
   "cell_type": "code",
   "execution_count": 29,
   "id": "e9e38c5d",
   "metadata": {
    "scrolled": false
   },
   "outputs": [
    {
     "data": {
      "text/html": [
       "<div>\n",
       "<style scoped>\n",
       "    .dataframe tbody tr th:only-of-type {\n",
       "        vertical-align: middle;\n",
       "    }\n",
       "\n",
       "    .dataframe tbody tr th {\n",
       "        vertical-align: top;\n",
       "    }\n",
       "\n",
       "    .dataframe thead th {\n",
       "        text-align: right;\n",
       "    }\n",
       "</style>\n",
       "<table border=\"1\" class=\"dataframe\">\n",
       "  <thead>\n",
       "    <tr style=\"text-align: right;\">\n",
       "      <th></th>\n",
       "      <th>meters</th>\n",
       "      <th>address</th>\n",
       "      <th>latitude</th>\n",
       "      <th>longitude</th>\n",
       "      <th>title</th>\n",
       "      <th>price_per_meter</th>\n",
       "      <th>price</th>\n",
       "      <th>floor</th>\n",
       "      <th>floors</th>\n",
       "      <th>metro</th>\n",
       "      <th>metro_distance</th>\n",
       "      <th>metro_distance_type</th>\n",
       "      <th>building</th>\n",
       "      <th>rooms</th>\n",
       "      <th>is_flat</th>\n",
       "      <th>description</th>\n",
       "      <th>distance</th>\n",
       "      <th>zone</th>\n",
       "      <th>metro_code</th>\n",
       "    </tr>\n",
       "  </thead>\n",
       "  <tbody>\n",
       "    <tr>\n",
       "      <th>0</th>\n",
       "      <td>12.700000</td>\n",
       "      <td>Вольная улица, 25</td>\n",
       "      <td>0.023054</td>\n",
       "      <td>0.111272</td>\n",
       "      <td>12,7 м², апартаменты-студия</td>\n",
       "      <td>312180</td>\n",
       "      <td>3964686</td>\n",
       "      <td>1</td>\n",
       "      <td>2</td>\n",
       "      <td>Семёновская</td>\n",
       "      <td>17</td>\n",
       "      <td>0</td>\n",
       "      <td>1 этаж из 2</td>\n",
       "      <td>0</td>\n",
       "      <td>0</td>\n",
       "      <td>Субсидированная ипотека от ведущих банков Отде...</td>\n",
       "      <td>12.647600</td>\n",
       "      <td>1</td>\n",
       "      <td>174</td>\n",
       "    </tr>\n",
       "    <tr>\n",
       "      <th>2</th>\n",
       "      <td>21.400001</td>\n",
       "      <td>поселение Сосенское, жилой комплекс Прокшино</td>\n",
       "      <td>-0.182116</td>\n",
       "      <td>-0.176056</td>\n",
       "      <td>21,4 м², квартира-студия</td>\n",
       "      <td>329837</td>\n",
       "      <td>7058512</td>\n",
       "      <td>5</td>\n",
       "      <td>9</td>\n",
       "      <td>Прокшино</td>\n",
       "      <td>18</td>\n",
       "      <td>0</td>\n",
       "      <td>новостройка, ЖК «Прокшино» 3 кв. 2024 г., 5 эт...</td>\n",
       "      <td>0</td>\n",
       "      <td>1</td>\n",
       "      <td>Apт.1684014. Гибкая ипотека от 0,1%! Вы можете...</td>\n",
       "      <td>28.192514</td>\n",
       "      <td>4</td>\n",
       "      <td>155</td>\n",
       "    </tr>\n",
       "    <tr>\n",
       "      <th>3</th>\n",
       "      <td>38.790000</td>\n",
       "      <td>жилой комплекс Симфония 34</td>\n",
       "      <td>-0.185715</td>\n",
       "      <td>-0.028713</td>\n",
       "      <td>38,8 м², 1-комнатная квартира</td>\n",
       "      <td>513200</td>\n",
       "      <td>19907028</td>\n",
       "      <td>18</td>\n",
       "      <td>36</td>\n",
       "      <td>Дмитровская</td>\n",
       "      <td>9</td>\n",
       "      <td>0</td>\n",
       "      <td>новостройка, ЖК Symphony 34 2025 г., 18 этаж и...</td>\n",
       "      <td>1</td>\n",
       "      <td>1</td>\n",
       "      <td>Продаётся 1-комнатная квартира от застройщика ...</td>\n",
       "      <td>20.915631</td>\n",
       "      <td>4</td>\n",
       "      <td>45</td>\n",
       "    </tr>\n",
       "    <tr>\n",
       "      <th>4</th>\n",
       "      <td>120.199895</td>\n",
       "      <td>шоссе Энтузиастов, 3Ак1</td>\n",
       "      <td>0.022223</td>\n",
       "      <td>0.217745</td>\n",
       "      <td>120,2 м², 4-комнатная квартира</td>\n",
       "      <td>380200</td>\n",
       "      <td>45700000</td>\n",
       "      <td>14</td>\n",
       "      <td>21</td>\n",
       "      <td>Москва Товарная</td>\n",
       "      <td>13</td>\n",
       "      <td>0</td>\n",
       "      <td>новостройка, Квартал «Символ» 2023 г., 14 этаж...</td>\n",
       "      <td>4</td>\n",
       "      <td>1</td>\n",
       "      <td>Продаю просторную квартиру с европланировкой п...</td>\n",
       "      <td>24.360870</td>\n",
       "      <td>1</td>\n",
       "      <td>109</td>\n",
       "    </tr>\n",
       "    <tr>\n",
       "      <th>5</th>\n",
       "      <td>19.000000</td>\n",
       "      <td>Балтийская улица, 15</td>\n",
       "      <td>0.056696</td>\n",
       "      <td>-0.107335</td>\n",
       "      <td>19 м², апартаменты-студия</td>\n",
       "      <td>300000</td>\n",
       "      <td>5700000</td>\n",
       "      <td>9</td>\n",
       "      <td>14</td>\n",
       "      <td>Сокол</td>\n",
       "      <td>9</td>\n",
       "      <td>0</td>\n",
       "      <td>9 этаж из 14</td>\n",
       "      <td>0</td>\n",
       "      <td>0</td>\n",
       "      <td>Субсидированная ипотека от ведущих банков. Про...</td>\n",
       "      <td>13.510579</td>\n",
       "      <td>3</td>\n",
       "      <td>180</td>\n",
       "    </tr>\n",
       "  </tbody>\n",
       "</table>\n",
       "</div>"
      ],
      "text/plain": [
       "       meters                                       address  latitude  \\\n",
       "0   12.700000                             Вольная улица, 25  0.023054   \n",
       "2   21.400001  поселение Сосенское, жилой комплекс Прокшино -0.182116   \n",
       "3   38.790000                    жилой комплекс Симфония 34 -0.185715   \n",
       "4  120.199895                       шоссе Энтузиастов, 3Ак1  0.022223   \n",
       "5   19.000000                          Балтийская улица, 15  0.056696   \n",
       "\n",
       "   longitude                           title  price_per_meter     price  \\\n",
       "0   0.111272     12,7 м², апартаменты-студия           312180   3964686   \n",
       "2  -0.176056        21,4 м², квартира-студия           329837   7058512   \n",
       "3  -0.028713   38,8 м², 1-комнатная квартира           513200  19907028   \n",
       "4   0.217745  120,2 м², 4-комнатная квартира           380200  45700000   \n",
       "5  -0.107335       19 м², апартаменты-студия           300000   5700000   \n",
       "\n",
       "   floor  floors            metro  metro_distance  metro_distance_type  \\\n",
       "0      1       2      Семёновская              17                    0   \n",
       "2      5       9         Прокшино              18                    0   \n",
       "3     18      36      Дмитровская               9                    0   \n",
       "4     14      21  Москва Товарная              13                    0   \n",
       "5      9      14            Сокол               9                    0   \n",
       "\n",
       "                                            building  rooms  is_flat  \\\n",
       "0                                        1 этаж из 2      0        0   \n",
       "2  новостройка, ЖК «Прокшино» 3 кв. 2024 г., 5 эт...      0        1   \n",
       "3  новостройка, ЖК Symphony 34 2025 г., 18 этаж и...      1        1   \n",
       "4  новостройка, Квартал «Символ» 2023 г., 14 этаж...      4        1   \n",
       "5                                       9 этаж из 14      0        0   \n",
       "\n",
       "                                         description   distance  zone  \\\n",
       "0  Субсидированная ипотека от ведущих банков Отде...  12.647600     1   \n",
       "2  Apт.1684014. Гибкая ипотека от 0,1%! Вы можете...  28.192514     4   \n",
       "3  Продаётся 1-комнатная квартира от застройщика ...  20.915631     4   \n",
       "4  Продаю просторную квартиру с европланировкой п...  24.360870     1   \n",
       "5  Субсидированная ипотека от ведущих банков. Про...  13.510579     3   \n",
       "\n",
       "   metro_code  \n",
       "0         174  \n",
       "2         155  \n",
       "3          45  \n",
       "4         109  \n",
       "5         180  "
      ]
     },
     "execution_count": 29,
     "metadata": {},
     "output_type": "execute_result"
    }
   ],
   "source": [
    "coord_data.head()"
   ]
  },
  {
   "cell_type": "markdown",
   "id": "a9fac158",
   "metadata": {},
   "source": [
    "Let's prepare the data for training the model. Let's create a variable X by cutting out the price values from it (because they will be used as the goal of the assessment), and then inserting them into the variable y.\n",
    "Let's divide the data set into two parts in the ratio 80/20: for training and for validating the model"
   ]
  },
  {
   "cell_type": "code",
   "execution_count": 30,
   "id": "b1a22353",
   "metadata": {},
   "outputs": [
    {
     "name": "stdout",
     "output_type": "stream",
     "text": [
      "(6388, 19)\n",
      "Features: ['meters', 'floor', 'floors', 'metro_code', 'metro_distance_type', 'metro_distance', 'rooms', 'is_flat', 'distance', 'latitude', 'longitude', 'zone']\n"
     ]
    }
   ],
   "source": [
    "train_data = coord_data.copy()\n",
    "print(train_data.shape)\n",
    "y = train_data.pop(\"price\")\n",
    "train_data.pop(\"price_per_meter\")\n",
    "X = train_data\n",
    "\n",
    "X_train_full, X_valid_full, y_train, y_valid = train_test_split(X, y,\n",
    "                                                                random_state=0,\n",
    "                                                                train_size=0.8,\n",
    "                                                                test_size=0.2)\n",
    "features = [\"meters\", \"floor\", \"floors\", \"metro_code\", \"metro_distance_type\", \n",
    "            \"metro_distance\", \"rooms\", \"is_flat\", \"distance\", \"latitude\", \"longitude\", \"zone\"]\n",
    "X_train = X_train_full[features].copy()\n",
    "X_valid = X_valid_full[features].copy()\n",
    "\n",
    "print(f\"Features: {features}\")"
   ]
  },
  {
   "cell_type": "markdown",
   "id": "4e705451",
   "metadata": {},
   "source": [
    "Empirically approached the coefficients for the models, the estimated estimate of the model (mean absolute error - MAE)"
   ]
  },
  {
   "cell_type": "code",
   "execution_count": 31,
   "id": "c98f901c",
   "metadata": {},
   "outputs": [
    {
     "data": {
      "text/html": [
       "<style>#sk-container-id-1 {color: black;background-color: white;}#sk-container-id-1 pre{padding: 0;}#sk-container-id-1 div.sk-toggleable {background-color: white;}#sk-container-id-1 label.sk-toggleable__label {cursor: pointer;display: block;width: 100%;margin-bottom: 0;padding: 0.3em;box-sizing: border-box;text-align: center;}#sk-container-id-1 label.sk-toggleable__label-arrow:before {content: \"▸\";float: left;margin-right: 0.25em;color: #696969;}#sk-container-id-1 label.sk-toggleable__label-arrow:hover:before {color: black;}#sk-container-id-1 div.sk-estimator:hover label.sk-toggleable__label-arrow:before {color: black;}#sk-container-id-1 div.sk-toggleable__content {max-height: 0;max-width: 0;overflow: hidden;text-align: left;background-color: #f0f8ff;}#sk-container-id-1 div.sk-toggleable__content pre {margin: 0.2em;color: black;border-radius: 0.25em;background-color: #f0f8ff;}#sk-container-id-1 input.sk-toggleable__control:checked~div.sk-toggleable__content {max-height: 200px;max-width: 100%;overflow: auto;}#sk-container-id-1 input.sk-toggleable__control:checked~label.sk-toggleable__label-arrow:before {content: \"▾\";}#sk-container-id-1 div.sk-estimator input.sk-toggleable__control:checked~label.sk-toggleable__label {background-color: #d4ebff;}#sk-container-id-1 div.sk-label input.sk-toggleable__control:checked~label.sk-toggleable__label {background-color: #d4ebff;}#sk-container-id-1 input.sk-hidden--visually {border: 0;clip: rect(1px 1px 1px 1px);clip: rect(1px, 1px, 1px, 1px);height: 1px;margin: -1px;overflow: hidden;padding: 0;position: absolute;width: 1px;}#sk-container-id-1 div.sk-estimator {font-family: monospace;background-color: #f0f8ff;border: 1px dotted black;border-radius: 0.25em;box-sizing: border-box;margin-bottom: 0.5em;}#sk-container-id-1 div.sk-estimator:hover {background-color: #d4ebff;}#sk-container-id-1 div.sk-parallel-item::after {content: \"\";width: 100%;border-bottom: 1px solid gray;flex-grow: 1;}#sk-container-id-1 div.sk-label:hover label.sk-toggleable__label {background-color: #d4ebff;}#sk-container-id-1 div.sk-serial::before {content: \"\";position: absolute;border-left: 1px solid gray;box-sizing: border-box;top: 0;bottom: 0;left: 50%;z-index: 0;}#sk-container-id-1 div.sk-serial {display: flex;flex-direction: column;align-items: center;background-color: white;padding-right: 0.2em;padding-left: 0.2em;position: relative;}#sk-container-id-1 div.sk-item {position: relative;z-index: 1;}#sk-container-id-1 div.sk-parallel {display: flex;align-items: stretch;justify-content: center;background-color: white;position: relative;}#sk-container-id-1 div.sk-item::before, #sk-container-id-1 div.sk-parallel-item::before {content: \"\";position: absolute;border-left: 1px solid gray;box-sizing: border-box;top: 0;bottom: 0;left: 50%;z-index: -1;}#sk-container-id-1 div.sk-parallel-item {display: flex;flex-direction: column;z-index: 1;position: relative;background-color: white;}#sk-container-id-1 div.sk-parallel-item:first-child::after {align-self: flex-end;width: 50%;}#sk-container-id-1 div.sk-parallel-item:last-child::after {align-self: flex-start;width: 50%;}#sk-container-id-1 div.sk-parallel-item:only-child::after {width: 0;}#sk-container-id-1 div.sk-dashed-wrapped {border: 1px dashed gray;margin: 0 0.4em 0.5em 0.4em;box-sizing: border-box;padding-bottom: 0.4em;background-color: white;}#sk-container-id-1 div.sk-label label {font-family: monospace;font-weight: bold;display: inline-block;line-height: 1.2em;}#sk-container-id-1 div.sk-label-container {text-align: center;}#sk-container-id-1 div.sk-container {/* jupyter's `normalize.less` sets `[hidden] { display: none; }` but bootstrap.min.css set `[hidden] { display: none !important; }` so we also need the `!important` here to be able to override the default hidden behavior on the sphinx rendered scikit-learn.org. See: https://github.com/scikit-learn/scikit-learn/issues/21755 */display: inline-block !important;position: relative;}#sk-container-id-1 div.sk-text-repr-fallback {display: none;}</style><div id=\"sk-container-id-1\" class=\"sk-top-container\"><div class=\"sk-text-repr-fallback\"><pre>XGBRegressor(base_score=0.5, booster=&#x27;gbtree&#x27;, callbacks=None,\n",
       "             colsample_bylevel=1, colsample_bynode=1, colsample_bytree=1,\n",
       "             early_stopping_rounds=None, enable_categorical=False,\n",
       "             eval_metric=None, gamma=0, gpu_id=-1, grow_policy=&#x27;depthwise&#x27;,\n",
       "             importance_type=None, interaction_constraints=&#x27;&#x27;,\n",
       "             learning_rate=0.02, max_bin=256, max_cat_to_onehot=4,\n",
       "             max_delta_step=0, max_depth=6, max_leaves=0, min_child_weight=1,\n",
       "             missing=nan, monotone_constraints=&#x27;()&#x27;, n_estimators=1000,\n",
       "             n_jobs=12, num_parallel_tree=1, predictor=&#x27;auto&#x27;, random_state=0,\n",
       "             reg_alpha=0, reg_lambda=1, ...)</pre><b>In a Jupyter environment, please rerun this cell to show the HTML representation or trust the notebook. <br />On GitHub, the HTML representation is unable to render, please try loading this page with nbviewer.org.</b></div><div class=\"sk-container\" hidden><div class=\"sk-item\"><div class=\"sk-estimator sk-toggleable\"><input class=\"sk-toggleable__control sk-hidden--visually\" id=\"sk-estimator-id-1\" type=\"checkbox\" checked><label for=\"sk-estimator-id-1\" class=\"sk-toggleable__label sk-toggleable__label-arrow\">XGBRegressor</label><div class=\"sk-toggleable__content\"><pre>XGBRegressor(base_score=0.5, booster=&#x27;gbtree&#x27;, callbacks=None,\n",
       "             colsample_bylevel=1, colsample_bynode=1, colsample_bytree=1,\n",
       "             early_stopping_rounds=None, enable_categorical=False,\n",
       "             eval_metric=None, gamma=0, gpu_id=-1, grow_policy=&#x27;depthwise&#x27;,\n",
       "             importance_type=None, interaction_constraints=&#x27;&#x27;,\n",
       "             learning_rate=0.02, max_bin=256, max_cat_to_onehot=4,\n",
       "             max_delta_step=0, max_depth=6, max_leaves=0, min_child_weight=1,\n",
       "             missing=nan, monotone_constraints=&#x27;()&#x27;, n_estimators=1000,\n",
       "             n_jobs=12, num_parallel_tree=1, predictor=&#x27;auto&#x27;, random_state=0,\n",
       "             reg_alpha=0, reg_lambda=1, ...)</pre></div></div></div></div></div>"
      ],
      "text/plain": [
       "XGBRegressor(base_score=0.5, booster='gbtree', callbacks=None,\n",
       "             colsample_bylevel=1, colsample_bynode=1, colsample_bytree=1,\n",
       "             early_stopping_rounds=None, enable_categorical=False,\n",
       "             eval_metric=None, gamma=0, gpu_id=-1, grow_policy='depthwise',\n",
       "             importance_type=None, interaction_constraints='',\n",
       "             learning_rate=0.02, max_bin=256, max_cat_to_onehot=4,\n",
       "             max_delta_step=0, max_depth=6, max_leaves=0, min_child_weight=1,\n",
       "             missing=nan, monotone_constraints='()', n_estimators=1000,\n",
       "             n_jobs=12, num_parallel_tree=1, predictor='auto', random_state=0,\n",
       "             reg_alpha=0, reg_lambda=1, ...)"
      ]
     },
     "execution_count": 31,
     "metadata": {},
     "output_type": "execute_result"
    }
   ],
   "source": [
    "model = XGBRegressor(n_estimators=1000, learning_rate=0.02, n_jobs=12)\n",
    "model.fit(X_train, y_train)"
   ]
  },
  {
   "cell_type": "markdown",
   "id": "7a0a5c15",
   "metadata": {},
   "source": [
    "Test the trained model separately in the western and eastern directions, and then get the average error after cross-validation"
   ]
  },
  {
   "cell_type": "code",
   "execution_count": 32,
   "id": "6eed6095",
   "metadata": {},
   "outputs": [
    {
     "name": "stdout",
     "output_type": "stream",
     "text": [
      "Average MAE score:\n",
      "1493205.7910798122\n",
      "(4164, 19)\n",
      "Average MAE score (only zones 3 and 4):\n",
      "514120.81032412965\n",
      "(2224, 19)\n",
      "Average MAE score (only zones 1 and 2):\n",
      "960988.7438202248\n",
      "Average MAE score:\n",
      "1010536.9174090046\n"
     ]
    }
   ],
   "source": [
    "preds = model.predict(X_valid)\n",
    "score = mean_absolute_error(y_valid, preds)\n",
    "print(\"Average MAE score:\")\n",
    "print(score)\n",
    "\n",
    "\n",
    "train_data = coord_data.copy()\n",
    "train_data = train_data[train_data[\"zone\"] >= 3]\n",
    "print(train_data.shape)\n",
    "y = train_data.pop(\"price\")\n",
    "train_data.pop(\"price_per_meter\")\n",
    "X = train_data\n",
    "\n",
    "X_train_full, X_valid_full, y_train, y_valid = train_test_split(X, y,\n",
    "                                                                random_state=0,\n",
    "                                                                train_size=0.8,\n",
    "                                                                test_size=0.2)\n",
    "X_train = X_train_full[features].copy()\n",
    "X_valid = X_valid_full[features].copy()\n",
    "\n",
    "\n",
    "preds = model.predict(X_valid)\n",
    "score = mean_absolute_error(y_valid, preds)\n",
    "print(\"Average MAE score (only zones 3 and 4):\")\n",
    "print(score)\n",
    "\n",
    "train_data = coord_data.copy()\n",
    "train_data = train_data[train_data[\"zone\"] <= 2]\n",
    "print(train_data.shape)\n",
    "y = train_data.pop(\"price\")\n",
    "train_data.pop(\"price_per_meter\")\n",
    "X = train_data\n",
    "\n",
    "X_train_full, X_valid_full, y_train, y_valid = train_test_split(X, y,\n",
    "                                                                random_state=0,\n",
    "                                                                train_size=0.8,\n",
    "                                                                test_size=0.2)\n",
    "X_train = X_train_full[features].copy()\n",
    "X_valid = X_valid_full[features].copy()\n",
    "\n",
    "\n",
    "preds = model.predict(X_valid)\n",
    "score = mean_absolute_error(y_valid, preds)\n",
    "print(\"Average MAE score (only zones 1 and 2):\")\n",
    "print(score)\n",
    "\n",
    "# scores = -1 * cross_val_score(model, X_train, y_train, \n",
    "#                               cv=5, scoring=\"neg_mean_absolute_error\")\n",
    "# print(\"Average MAE score:\")\n",
    "# print(scores.mean())\n",
    "\n",
    "scores = -1 * cross_val_score(model, X_train, y_train, \n",
    "                              cv=5, scoring=\"neg_mean_absolute_error\")\n",
    "print(\"Average MAE score:\")\n",
    "print(scores.mean())"
   ]
  },
  {
   "cell_type": "markdown",
   "id": "6bb5bacf",
   "metadata": {},
   "source": [
    "*Average MAE score: <br>\n",
    "960988.7438202248 <br>\n",
    "(4164, 19) <br>\n",
    "Average MAE score (only zones 3 and 4): <br>\n",
    "514120.81032412965 <br>\n",
    "(2224, 19) <br>\n",
    "Average MAE score (only zones 1 and 2): <br>\n",
    "960988.7438202248 <br>\n",
    "Average MAE score: <br>\n",
    "1010536.9174090046*\n",
    "\n",
    "It follows from the results that the model performs much better on western data. The average error in the estimate was +- 1 million. rub. It is possible to greatly improve the result by collecting a dataset of sizes over 10,000 records, which is critical in real apartment appraisal projects, but the current dataset is quite suitable for educational purposes."
   ]
  }
 ],
 "metadata": {
  "kernelspec": {
   "display_name": "Python 3 (ipykernel)",
   "language": "python",
   "name": "python3"
  },
  "language_info": {
   "codemirror_mode": {
    "name": "ipython",
    "version": 3
   },
   "file_extension": ".py",
   "mimetype": "text/x-python",
   "name": "python",
   "nbconvert_exporter": "python",
   "pygments_lexer": "ipython3",
   "version": "3.10.4"
  }
 },
 "nbformat": 4,
 "nbformat_minor": 5
}
